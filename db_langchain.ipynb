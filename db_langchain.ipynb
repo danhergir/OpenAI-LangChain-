{
  "cells": [
    {
      "cell_type": "code",
      "execution_count": 1,
      "metadata": {
        "id": "VR8N0SBYQKVK"
      },
      "outputs": [
        {
          "name": "stdout",
          "output_type": "stream",
          "text": [
            "\u001b[33mWARNING: You are using pip version 21.2.3; however, version 24.0 is available.\n",
            "You should consider upgrading via the '/Users/danielhernandez/.pyenv/versions/3.10.0/bin/python3.10 -m pip install --upgrade pip' command.\u001b[0m\n"
          ]
        }
      ],
      "source": [
        "!pip install mysql-connector-python langchain langchain_openai openai langchain_experimental sqlalchemy pinecone-client -q"
      ]
    },
    {
      "cell_type": "code",
      "execution_count": 2,
      "metadata": {},
      "outputs": [
        {
          "name": "stdout",
          "output_type": "stream",
          "text": [
            "Requirement already satisfied: pandas in /Users/danielhernandez/.pyenv/versions/3.10.0/lib/python3.10/site-packages (2.2.2)\n",
            "Requirement already satisfied: tabulate in /Users/danielhernandez/.pyenv/versions/3.10.0/lib/python3.10/site-packages (0.9.0)\n",
            "Requirement already satisfied: numpy>=1.22.4 in /Users/danielhernandez/.pyenv/versions/3.10.0/lib/python3.10/site-packages (from pandas) (1.26.4)\n",
            "Requirement already satisfied: tzdata>=2022.7 in /Users/danielhernandez/.pyenv/versions/3.10.0/lib/python3.10/site-packages (from pandas) (2024.1)\n",
            "Requirement already satisfied: python-dateutil>=2.8.2 in /Users/danielhernandez/.pyenv/versions/3.10.0/lib/python3.10/site-packages (from pandas) (2.9.0.post0)\n",
            "Requirement already satisfied: pytz>=2020.1 in /Users/danielhernandez/.pyenv/versions/3.10.0/lib/python3.10/site-packages (from pandas) (2024.1)\n",
            "Requirement already satisfied: six>=1.5 in /Users/danielhernandez/.pyenv/versions/3.10.0/lib/python3.10/site-packages (from python-dateutil>=2.8.2->pandas) (1.16.0)\n",
            "\u001b[33mWARNING: You are using pip version 21.2.3; however, version 24.0 is available.\n",
            "You should consider upgrading via the '/Users/danielhernandez/.pyenv/versions/3.10.0/bin/python3.10 -m pip install --upgrade pip' command.\u001b[0m\n"
          ]
        }
      ],
      "source": [
        "!pip install pandas tabulate"
      ]
    },
    {
      "cell_type": "code",
      "execution_count": 3,
      "metadata": {
        "colab": {
          "base_uri": "https://localhost:8080/"
        },
        "id": "b8F4We4fTTF2",
        "outputId": "ebfad8a1-c79c-408b-c1c5-efff9f249a0f"
      },
      "outputs": [
        {
          "name": "stdout",
          "output_type": "stream",
          "text": [
            "hostname: illegal option -- I\n",
            "usage: hostname [-f] [-s | -d] [name-of-host]\n"
          ]
        },
        {
          "name": "stdout",
          "output_type": "stream",
          "text": [
            "2800:e2:6780:cc8:4cdf:b628:59e:95d8"
          ]
        }
      ],
      "source": [
        "#Gives ip address\n",
        "!hostname -I\n",
        "\n",
        "#gives ip address\n",
        "!curl ipecho.net/plain"
      ]
    },
    {
      "cell_type": "code",
      "execution_count": 4,
      "metadata": {
        "colab": {
          "base_uri": "https://localhost:8080/",
          "height": 989
        },
        "id": "KjqWXT-yQKVL",
        "outputId": "4e46849e-0e0c-48df-c665-9ee7ae1fac6e"
      },
      "outputs": [
        {
          "ename": "ValueError",
          "evalue": "invalid literal for int() with base 10: 'db-port'",
          "output_type": "error",
          "traceback": [
            "\u001b[0;31m---------------------------------------------------------------------------\u001b[0m",
            "\u001b[0;31mValueError\u001b[0m                                Traceback (most recent call last)",
            "Cell \u001b[0;32mIn[4], line 10\u001b[0m\n\u001b[1;32m      7\u001b[0m database_name \u001b[38;5;241m=\u001b[39m \u001b[38;5;124m\"\u001b[39m\u001b[38;5;124mdb-name\u001b[39m\u001b[38;5;124m\"\u001b[39m\n\u001b[1;32m      8\u001b[0m database_port \u001b[38;5;241m=\u001b[39m \u001b[38;5;124m\"\u001b[39m\u001b[38;5;124mdb-port\u001b[39m\u001b[38;5;124m\"\u001b[39m\n\u001b[0;32m---> 10\u001b[0m database_connection \u001b[38;5;241m=\u001b[39m \u001b[43msqlalchemy\u001b[49m\u001b[38;5;241;43m.\u001b[39;49m\u001b[43mcreate_engine\u001b[49m\u001b[43m(\u001b[49m\n\u001b[1;32m     11\u001b[0m \u001b[43m    \u001b[49m\u001b[38;5;124;43m\"\u001b[39;49m\u001b[38;5;124;43mmysql+mysqlconnector://\u001b[39;49m\u001b[38;5;132;43;01m{0}\u001b[39;49;00m\u001b[38;5;124;43m:\u001b[39;49m\u001b[38;5;132;43;01m{1}\u001b[39;49;00m\u001b[38;5;124;43m@\u001b[39;49m\u001b[38;5;132;43;01m{2}\u001b[39;49;00m\u001b[38;5;124;43m:\u001b[39;49m\u001b[38;5;132;43;01m{3}\u001b[39;49;00m\u001b[38;5;124;43m/\u001b[39;49m\u001b[38;5;132;43;01m{4}\u001b[39;49;00m\u001b[38;5;124;43m\"\u001b[39;49m\u001b[38;5;241;43m.\u001b[39;49m\u001b[43mformat\u001b[49m\u001b[43m(\u001b[49m\n\u001b[1;32m     12\u001b[0m \u001b[43m        \u001b[49m\u001b[43mdatabase_username\u001b[49m\u001b[43m,\u001b[49m\u001b[43m \u001b[49m\u001b[43mdatabase_password\u001b[49m\u001b[43m,\u001b[49m\u001b[43m \u001b[49m\u001b[43mdatabase_ip\u001b[49m\u001b[43m,\u001b[49m\u001b[43m \u001b[49m\u001b[43mdatabase_port\u001b[49m\u001b[43m,\u001b[49m\u001b[43m \u001b[49m\u001b[43mdatabase_name\u001b[49m\n\u001b[1;32m     13\u001b[0m \u001b[43m    \u001b[49m\u001b[43m)\u001b[49m\n\u001b[1;32m     14\u001b[0m \u001b[43m)\u001b[49m\n\u001b[1;32m     16\u001b[0m comments \u001b[38;5;241m=\u001b[39m pd\u001b[38;5;241m.\u001b[39mread_sql_query(\u001b[38;5;124m\"\"\"\u001b[39m\u001b[38;5;124mSELECT * FROM all_star_comment\u001b[39m\u001b[38;5;124m\"\"\"\u001b[39m, con\u001b[38;5;241m=\u001b[39mdatabase_connection)\n\u001b[1;32m     18\u001b[0m comments[\u001b[38;5;124m'\u001b[39m\u001b[38;5;124mdate\u001b[39m\u001b[38;5;124m'\u001b[39m] \u001b[38;5;241m=\u001b[39m pd\u001b[38;5;241m.\u001b[39mto_datetime(comments[\u001b[38;5;124m'\u001b[39m\u001b[38;5;124mdate\u001b[39m\u001b[38;5;124m'\u001b[39m], unit\u001b[38;5;241m=\u001b[39m\u001b[38;5;124m'\u001b[39m\u001b[38;5;124mms\u001b[39m\u001b[38;5;124m'\u001b[39m)\n",
            "File \u001b[0;32m<string>:2\u001b[0m, in \u001b[0;36mcreate_engine\u001b[0;34m(url, **kwargs)\u001b[0m\n",
            "File \u001b[0;32m~/.pyenv/versions/3.10.0/lib/python3.10/site-packages/sqlalchemy/util/deprecations.py:281\u001b[0m, in \u001b[0;36mdeprecated_params.<locals>.decorate.<locals>.warned\u001b[0;34m(fn, *args, **kwargs)\u001b[0m\n\u001b[1;32m    274\u001b[0m     \u001b[38;5;28;01mif\u001b[39;00m m \u001b[38;5;129;01min\u001b[39;00m kwargs:\n\u001b[1;32m    275\u001b[0m         _warn_with_version(\n\u001b[1;32m    276\u001b[0m             messages[m],\n\u001b[1;32m    277\u001b[0m             versions[m],\n\u001b[1;32m    278\u001b[0m             version_warnings[m],\n\u001b[1;32m    279\u001b[0m             stacklevel\u001b[38;5;241m=\u001b[39m\u001b[38;5;241m3\u001b[39m,\n\u001b[1;32m    280\u001b[0m         )\n\u001b[0;32m--> 281\u001b[0m \u001b[38;5;28;01mreturn\u001b[39;00m \u001b[43mfn\u001b[49m\u001b[43m(\u001b[49m\u001b[38;5;241;43m*\u001b[39;49m\u001b[43margs\u001b[49m\u001b[43m,\u001b[49m\u001b[43m \u001b[49m\u001b[38;5;241;43m*\u001b[39;49m\u001b[38;5;241;43m*\u001b[39;49m\u001b[43mkwargs\u001b[49m\u001b[43m)\u001b[49m\n",
            "File \u001b[0;32m~/.pyenv/versions/3.10.0/lib/python3.10/site-packages/sqlalchemy/engine/create.py:546\u001b[0m, in \u001b[0;36mcreate_engine\u001b[0;34m(url, **kwargs)\u001b[0m\n\u001b[1;32m    543\u001b[0m kwargs\u001b[38;5;241m.\u001b[39mpop(\u001b[38;5;124m\"\u001b[39m\u001b[38;5;124mempty_in_strategy\u001b[39m\u001b[38;5;124m\"\u001b[39m, \u001b[38;5;28;01mNone\u001b[39;00m)\n\u001b[1;32m    545\u001b[0m \u001b[38;5;66;03m# create url.URL object\u001b[39;00m\n\u001b[0;32m--> 546\u001b[0m u \u001b[38;5;241m=\u001b[39m \u001b[43m_url\u001b[49m\u001b[38;5;241;43m.\u001b[39;49m\u001b[43mmake_url\u001b[49m\u001b[43m(\u001b[49m\u001b[43murl\u001b[49m\u001b[43m)\u001b[49m\n\u001b[1;32m    548\u001b[0m u, plugins, kwargs \u001b[38;5;241m=\u001b[39m u\u001b[38;5;241m.\u001b[39m_instantiate_plugins(kwargs)\n\u001b[1;32m    550\u001b[0m entrypoint \u001b[38;5;241m=\u001b[39m u\u001b[38;5;241m.\u001b[39m_get_entrypoint()\n",
            "File \u001b[0;32m~/.pyenv/versions/3.10.0/lib/python3.10/site-packages/sqlalchemy/engine/url.py:842\u001b[0m, in \u001b[0;36mmake_url\u001b[0;34m(name_or_url)\u001b[0m\n\u001b[1;32m    826\u001b[0m \u001b[38;5;250m\u001b[39m\u001b[38;5;124;03m\"\"\"Given a string, produce a new URL instance.\u001b[39;00m\n\u001b[1;32m    827\u001b[0m \n\u001b[1;32m    828\u001b[0m \u001b[38;5;124;03mThe format of the URL generally follows `RFC-1738\u001b[39;00m\n\u001b[0;32m   (...)\u001b[0m\n\u001b[1;32m    838\u001b[0m \n\u001b[1;32m    839\u001b[0m \u001b[38;5;124;03m\"\"\"\u001b[39;00m\n\u001b[1;32m    841\u001b[0m \u001b[38;5;28;01mif\u001b[39;00m \u001b[38;5;28misinstance\u001b[39m(name_or_url, \u001b[38;5;28mstr\u001b[39m):\n\u001b[0;32m--> 842\u001b[0m     \u001b[38;5;28;01mreturn\u001b[39;00m \u001b[43m_parse_url\u001b[49m\u001b[43m(\u001b[49m\u001b[43mname_or_url\u001b[49m\u001b[43m)\u001b[49m\n\u001b[1;32m    843\u001b[0m \u001b[38;5;28;01melif\u001b[39;00m \u001b[38;5;129;01mnot\u001b[39;00m \u001b[38;5;28misinstance\u001b[39m(name_or_url, URL) \u001b[38;5;129;01mand\u001b[39;00m \u001b[38;5;129;01mnot\u001b[39;00m \u001b[38;5;28mhasattr\u001b[39m(\n\u001b[1;32m    844\u001b[0m     name_or_url, \u001b[38;5;124m\"\u001b[39m\u001b[38;5;124m_sqla_is_testing_if_this_is_a_mock_object\u001b[39m\u001b[38;5;124m\"\u001b[39m\n\u001b[1;32m    845\u001b[0m ):\n\u001b[1;32m    846\u001b[0m     \u001b[38;5;28;01mraise\u001b[39;00m exc\u001b[38;5;241m.\u001b[39mArgumentError(\n\u001b[1;32m    847\u001b[0m         \u001b[38;5;124mf\u001b[39m\u001b[38;5;124m\"\u001b[39m\u001b[38;5;124mExpected string or URL object, got \u001b[39m\u001b[38;5;132;01m{\u001b[39;00mname_or_url\u001b[38;5;132;01m!r}\u001b[39;00m\u001b[38;5;124m\"\u001b[39m\n\u001b[1;32m    848\u001b[0m     )\n",
            "File \u001b[0;32m~/.pyenv/versions/3.10.0/lib/python3.10/site-packages/sqlalchemy/engine/url.py:903\u001b[0m, in \u001b[0;36m_parse_url\u001b[0;34m(name)\u001b[0m\n\u001b[1;32m    900\u001b[0m     name \u001b[38;5;241m=\u001b[39m components\u001b[38;5;241m.\u001b[39mpop(\u001b[38;5;124m\"\u001b[39m\u001b[38;5;124mname\u001b[39m\u001b[38;5;124m\"\u001b[39m)\n\u001b[1;32m    902\u001b[0m     \u001b[38;5;28;01mif\u001b[39;00m components[\u001b[38;5;124m\"\u001b[39m\u001b[38;5;124mport\u001b[39m\u001b[38;5;124m\"\u001b[39m]:\n\u001b[0;32m--> 903\u001b[0m         components[\u001b[38;5;124m\"\u001b[39m\u001b[38;5;124mport\u001b[39m\u001b[38;5;124m\"\u001b[39m] \u001b[38;5;241m=\u001b[39m \u001b[38;5;28;43mint\u001b[39;49m\u001b[43m(\u001b[49m\u001b[43mcomponents\u001b[49m\u001b[43m[\u001b[49m\u001b[38;5;124;43m\"\u001b[39;49m\u001b[38;5;124;43mport\u001b[39;49m\u001b[38;5;124;43m\"\u001b[39;49m\u001b[43m]\u001b[49m\u001b[43m)\u001b[49m\n\u001b[1;32m    905\u001b[0m     \u001b[38;5;28;01mreturn\u001b[39;00m URL\u001b[38;5;241m.\u001b[39mcreate(name, \u001b[38;5;241m*\u001b[39m\u001b[38;5;241m*\u001b[39mcomponents)  \u001b[38;5;66;03m# type: ignore\u001b[39;00m\n\u001b[1;32m    907\u001b[0m \u001b[38;5;28;01melse\u001b[39;00m:\n",
            "\u001b[0;31mValueError\u001b[0m: invalid literal for int() with base 10: 'db-port'"
          ]
        }
      ],
      "source": [
        "import sqlalchemy\n",
        "import pandas as pd\n",
        "\n",
        "database_username = \"username\"\n",
        "database_password = \"password\"\n",
        "database_ip = \"hostname\"\n",
        "database_name = \"db-name\"\n",
        "database_port = \"db-port\"\n",
        "\n",
        "database_connection = sqlalchemy.create_engine(\n",
        "    \"mysql+mysqlconnector://{0}:{1}@{2}:{3}/{4}\".format(\n",
        "        database_username, database_password, database_ip, database_port, database_name\n",
        "    )\n",
        ")\n",
        "\n",
        "comments = pd.read_sql_query(\"\"\"SELECT * FROM all_star_comment\"\"\", con=database_connection)\n",
        "\n",
        "comments['date'] = pd.to_datetime(comments['date'], unit='ms')\n",
        "\n",
        "data = comments.to_json(orient='records', force_ascii=False, date_format='iso')"
      ]
    },
    {
      "cell_type": "code",
      "execution_count": null,
      "metadata": {
        "id": "zjCPOZv2QKVL"
      },
      "outputs": [],
      "source": [
        "from getpass import getpass\n",
        "import os\n",
        "\n",
        "PINECONE_API_KEY = ''\n",
        "os.environ['PINECONE_API_KEY'] = PINECONE_API_KEY\n",
        "\n",
        "OPENAI_API_KEY = ''\n",
        "os.environ['OPENAI_API_KEY'] = OPENAI_API_KEY"
      ]
    },
    {
      "cell_type": "code",
      "execution_count": null,
      "metadata": {
        "id": "mjESQ2nFQKVM"
      },
      "outputs": [],
      "source": [
        "from pinecone import Pinecone\n",
        "\n",
        "pc = Pinecone()\n",
        "\n",
        "index_name = 'langchain'\n",
        "index = pc.Index(index_name)"
      ]
    },
    {
      "cell_type": "code",
      "execution_count": null,
      "metadata": {
        "id": "ndsIgScnQKVM"
      },
      "outputs": [],
      "source": [
        "# load core modules\n",
        "from langchain.embeddings.openai import OpenAIEmbeddings\n",
        "from langchain.vectorstores import Pinecone\n",
        "from langchain_openai import ChatOpenAI\n",
        "from langchain.chains import RetrievalQA\n",
        "# load agents and tools modules\n",
        "import pandas as pd\n",
        "from io import StringIO\n",
        "from langchain_experimental.tools.python.tool import PythonAstREPLTool\n",
        "from langchain.agents import initialize_agent, Tool\n",
        "from langchain.agents import AgentType\n",
        "from langchain import LLMMathChain"
      ]
    },
    {
      "cell_type": "code",
      "execution_count": null,
      "metadata": {
        "colab": {
          "base_uri": "https://localhost:8080/"
        },
        "id": "OQvjiMH_lsYl",
        "outputId": "2422545e-e6f0-490f-dbc4-f4dbd8f2d64f"
      },
      "outputs": [],
      "source": [
        "from langchain.agents.agent_types import AgentType\n",
        "from langchain_experimental.agents.agent_toolkits import create_pandas_dataframe_agent\n",
        "from langchain_openai import ChatOpenAI\n",
        "\n",
        "import pandas as pd\n",
        "from langchain_openai import OpenAI\n",
        "\n",
        "agent_kwargs = {}\n",
        "\n",
        "agent = create_pandas_dataframe_agent(\n",
        "    ChatOpenAI(temperature=0, model=\"gpt-3.5-turbo\", openai_api_key=OPENAI_API_KEY),\n",
        "    comments,\n",
        "    verbose=True,\n",
        "    agent_type=AgentType.OPENAI_FUNCTIONS,\n",
        "    agent_kwargs=agent_kwargs\n",
        ")\n",
        "\n",
        "query = 'Como puedo mejorar mi negocio'\n",
        "\n",
        "template = f'''\n",
        "Limítate a contestar preguntas solamente relevantes a los datos entregados.\n",
        "\n",
        "Esta pregunta no está relacionada a Pandas.\n",
        "\n",
        "Eres un experto analista de customer feedback. Especializado en encontrar patrones y tendencias en el feedback que los negocios reciben por medio de los comentarios de los clientes en encuestas de satisfacción u otros canales de comunicación como redes sociales y mensajeria de texto.\n",
        "\n",
        "Los datos que normalmente maneja un experto en customer feedback son de tipo texto para hacer análisis cualitativo a nivel especifico, revisando lo que cada cliente esta diciendo, y a nivel general identificando patrones y tendencias agregadas de los comentarios individuales de los clientes.\n",
        "\n",
        "El objetivo de un expert customer feedback analyst es encontrar oportunidades de mejora que van mas allá de solo identificar puntos importantes de una buena atención al cliente sino hasta la capacidad de identificar oportunidades de mejora en la experiencia completa de los clientes en el negocio donde labora. Ya que los comentarios de los clientes revelan mucho más que un buen servicio al cliente.\n",
        "\n",
        "Considera los datos de pandas cargados y responde de manera inteligente y no génerica a las entradas del usuario. \n",
        "\n",
        "No uses la palabra dataframe nunca.\n",
        "\n",
        "Todas las respuestas deben estar resumidas. Solo da respuestas largar cuando sea realmente necesario.\n",
        "\n",
        "\\nUSER INPUT: {query}\n",
        "\\nAI RESPONSE HERE:\n",
        "'''\n",
        "\n",
        "output = agent.invoke(template)\n"
      ]
    },
    {
      "cell_type": "code",
      "execution_count": null,
      "metadata": {
        "colab": {
          "base_uri": "https://localhost:8080/",
          "height": 53
        },
        "id": "bYzgSpbtvGo6",
        "outputId": "5cc76162-112d-4c90-98db-9b2ac40ab9a8"
      },
      "outputs": [],
      "source": [
        "output['output']"
      ]
    },
    {
      "cell_type": "code",
      "execution_count": null,
      "metadata": {
        "id": "NOGx8uyiR0qb"
      },
      "outputs": [],
      "source": [
        "from langchain.agents.agent_types import AgentType\n",
        "from langchain_experimental.agents.agent_toolkits import create_pandas_dataframe_agent\n",
        "from langchain_openai import ChatOpenAI\n",
        "from langchain.memory import ConversationBufferMemory\n",
        "import pandas as pd\n",
        "\n",
        "memory = ConversationBufferMemory()\n",
        "memory.save_context({\"input\": \"hi\"}, {\"output\": \"whats up\"})\n",
        "\n",
        "memory.load_memory_variables({})\n",
        "\n",
        "# Function to check if the query is relevant to the comments dataframe\n",
        "def is_query_relevant(query, dataframe):\n",
        "    # Example of a simple relevance check\n",
        "    keywords = [\n",
        "        'servicio', 'producto', 'calidad', 'entregar', 'cliente', 'negocio', 'experiencia', 'consumidor', \n",
        "        'comentario', 'comentarios', 'feedback', 'retroalimentación', 'datos'\n",
        "    ]\n",
        "\n",
        "    return any(keyword in query.lower() for keyword in keywords)\n",
        "\n",
        "# Custom Agent Class to handle out-of-scope queries\n",
        "class CustomDataFrameAgent:\n",
        "    def __init__(self, base_agent, dataframe):\n",
        "        self.base_agent = base_agent\n",
        "        self.dataframe = dataframe\n",
        "\n",
        "    def invoke(self, query):\n",
        "        if is_query_relevant(query, self.dataframe):\n",
        "            return self.base_agent.invoke(query)\n",
        "        else:\n",
        "            return \"Soy un experto analista de customer feedback. Por favor intenta ser un poco más específico.\"\n",
        "\n",
        "# Initialize your agent\n",
        "agent = create_pandas_dataframe_agent(\n",
        "    ChatOpenAI(temperature=0, model=\"gpt-3.5-turbo\", openai_api_key=OPENAI_API_KEY),\n",
        "    comments,\n",
        "    verbose=True,\n",
        "    agent_type=AgentType.OPENAI_FUNCTIONS,\n",
        ")\n",
        "\n",
        "# Wrap your agent in the custom class\n",
        "custom_agent = CustomDataFrameAgent(agent, comments)\n",
        "\n",
        "template = f'''\n",
        "Eres un experto analista de customer feedback. Especializado en encontrar patrones y tendencias en el feedback.\n",
        "\n",
        "El objetivo de un expert customer feedback analyst es encontrar oportunidades de mejora que van mas allá de solo identificar puntos importantes de una buena atención al cliente sino hasta la capacidad de identificar oportunidades de mejora en la experiencia completa de los clientes en el negocio donde labora. Ya que los comentarios de los clientes revelan mucho más que un buen servicio al cliente.\n",
        "\n",
        "No puedes responder nada relacionado a Pandas o Python.\n",
        "\n",
        "No uses la palabra \"Dataframe\" o \"df\".\n",
        "\n",
        "La respuesta deben estar resumida.\n",
        "\n",
        "No menciones nombres de columnas.\n",
        "\n",
        "No digas nada como esto: \"Para obtener información sobre los clientes en el dataframe `df`, puedes obtener los siguientes datos:\"\n",
        "\n",
        "\\nUSER INPUT: {query}\n",
        "\\nAI RESPONSE HERE:\n",
        "'''\n",
        "\n",
        "# Example query and output\n",
        "query = 'Que puedo ofrecer a mis clientes?'\n",
        "# output = custom_agent.invoke(query)\n",
        "# print(output)"
      ]
    },
    {
      "cell_type": "code",
      "execution_count": null,
      "metadata": {},
      "outputs": [],
      "source": [
        "from langchain.llms import OpenAI\n",
        "from langchain.sql_database import SQLDatabase\n",
        "from langchain_experimental.sql import SQLDatabaseChain\n",
        "\n",
        "# Setup database\n",
        "db = SQLDatabase.from_uri(\n",
        "    \"mysql+mysqlconnector://{0}:{1}@{2}:{3}/{4}\".format(\n",
        "        database_username, database_password, database_ip, database_port, database_name\n",
        "    )\n",
        ")\n",
        "\n",
        "# setup llm\n",
        "llm = OpenAI(temperature=0, openai_api_key=OPENAI_API_KEY)\n",
        "\n",
        "# Create db chain\n",
        "QUERY = \"\"\"\n",
        "Eres un experto analista de retroalimentación de clientes, especializado en identificar patrones y tendencias en la retroalimentación.\n",
        "\n",
        "El objetivo de un experto analista de retroalimentación de clientes es encontrar oportunidades de mejora que vayan más allá de simplemente identificar puntos clave de buen servicio al cliente, sino también identificar oportunidades de mejora en la experiencia general del cliente dentro del negocio donde trabajan. Ya que los comentarios de los clientes revelan mucho más que solo un buen servicio al cliente.\n",
        "\n",
        "Dada la pregunta, mire la tabla 'comments' SI ES NECESARIO y dame una respuesta que cumpla con tu objetivo como experto analista de retroalimentación.\n",
        "\n",
        "Pregunta: {question}\n",
        "Respuesta: Respuesta final aquí\n",
        "\"\"\"\n",
        "\n",
        "# Setup the database chain\n",
        "db_chain = SQLDatabaseChain(llm=llm, database=db, verbose=True)\n",
        "\n",
        "\n",
        "def get_prompt():\n",
        "    print(\"Type 'exit' to quit\")\n",
        "\n",
        "    while True:\n",
        "        prompt = input(\"Enter a prompt: \")\n",
        "\n",
        "        if prompt.lower() == 'exit':\n",
        "            print('Exiting...')\n",
        "            break\n",
        "        else:\n",
        "            try:\n",
        "                question = QUERY.format(question=prompt)\n",
        "                print(db_chain.run(question))\n",
        "            except Exception as e:\n",
        "                print(e)\n",
        "\n",
        "# get_prompt()\n"
      ]
    },
    {
      "cell_type": "code",
      "execution_count": null,
      "metadata": {},
      "outputs": [
        {
          "name": "stdout",
          "output_type": "stream",
          "text": [
            "{'id': 1, 'company_id': 1, 'date': '2021-01-31T08:29:34.000', 'stars': 5, 'comment': 'El servicio en este hotel es excepcional, el personal siempre está atento y dispuesto a ayudar.', 'name': 'Daniel', 'email': 'daniel@gmail.com', 'phone': '342424234'}\n"
          ]
        }
      ],
      "source": [
        "import json\n",
        "data = comments.to_json(orient='records', force_ascii=False, date_format='iso')\n",
        "data = json.loads(data)\n",
        "print(data[0])"
      ]
    },
    {
      "cell_type": "code",
      "execution_count": null,
      "metadata": {},
      "outputs": [
        {
          "data": {
            "text/plain": [
              "{1: 'El servicio en este hotel es excepcional, el personal siempre está atento y dispuesto a ayudar.',\n",
              " 2: 'Las instalaciones son impecables, todo está muy limpio y bien mantenido',\n",
              " 3: 'La comida en el restaurante del hotel es deliciosa, con una amplia variedad de opciones para todos los gustos.',\n",
              " 4: 'La ubicación es perfecta, cerca de las principales atracciones turísticas y con fácil acceso al transporte público.',\n",
              " 5: 'Las habitaciones son cómodas y espaciosas, ideales para relajarse después de un día de turismo.',\n",
              " 6: 'El Wi-Fi funciona perfectamente en todo el hotel, lo cual es genial para aquellos que necesitan estar conectados.',\n",
              " 7: 'El desayuno buffet es abundante y variado, con opciones frescas y de alta calidad.',\n",
              " 8: 'El ambiente del hotel es muy acogedor y tranquilo, ideal para disfrutar de una estancia relajante.',\n",
              " 9: 'El spa y las áreas de bienestar son excelentes, perfectas para consentirse y relajarse.',\n",
              " 10: 'El hotel ofrece una gran cantidad de servicios adicionales, como servicio de lavandería y alquiler de bicicletas, que hacen que la estancia sea aún más cómoda.',\n",
              " 11: 'La relación calidad-precio es excelente, realmente sientes que obtienes mucho por lo que pagas.',\n",
              " 12: 'La piscina del hotel es impresionante, con vistas increíbles y un ambiente muy agradable.',\n",
              " 13: 'El hotel cuenta con medidas de seguridad muy estrictas, lo que te hace sentir seguro y protegido durante tu estancia.',\n",
              " 14: 'La atención a los detalles es notable, desde pequeños obsequios de bienvenida hasta una carta de almohadas en las habitaciones, demuestran un cuidado especial por los huéspedes.',\n",
              " 15: 'El olor a humedad en las áreas comunes del hotel era bastante desagradable y persistente.',\n",
              " 16: 'La presión del agua en la ducha era muy baja, lo que hacía que bañarse fuera una experiencia poco satisfactoria.',\n",
              " 17: 'El mobiliario en las habitaciones estaba deteriorado y necesitaba ser renovado con urgencia.',\n",
              " 18: 'El sistema de calefacción en la habitación no funcionaba correctamente, haciendo que la temperatura fuera difícil de regular.',\n",
              " 19: 'La piscina del hotel estaba sucia y mal mantenida, lo que disminuía la experiencia de los huéspedes que deseaban disfrutar de un chapuzón.',\n",
              " 20: 'El servicio de limpieza pasaba muy temprano por la mañana, interrumpiendo el descanso de los huéspedes.',\n",
              " 21: 'El minibar en la habitación estaba vacío o mal surtido, lo que era decepcionante considerando el precio del alojamiento',\n",
              " 22: 'El hotel prometía vistas panorámicas, pero mi habitación tenía una vista obstruida o poco atractiva',\n",
              " 23: 'La insonorización de las habitaciones era deficiente, podía escuchar claramente las conversaciones de los vecinos.',\n",
              " 24: 'La conexión a internet era de pago y bastante cara, lo cual era inaceptable considerando el precio de la estancia.',\n",
              " 25: 'El servicio de transporte ofrecido por el hotel era irregular y poco confiable, causando inconvenientes a los huéspedes que dependían de él.',\n",
              " 26: 'El colchón en mi habitación estaba viejo y desgastado, lo que provocaba molestias durante la noche.',\n",
              " 27: 'El desayuno incluido en la tarifa era de baja calidad y poco variado, con opciones poco apetecibles.',\n",
              " 28: 'El hotel anunciaba un gimnasio bien equipado, pero al llegar descubrí que solo tenía un par de máquinas en mal estado.',\n",
              " 29: 'La decoración en las habitaciones era anticuada y poco acogedora, necesitaba una renovación urgente.',\n",
              " 30: 'El personal de restaurante era desorganizado y poco atento, lo que generaba largas esperas para ser atendido.'}"
            ]
          },
          "execution_count": 103,
          "metadata": {},
          "output_type": "execute_result"
        }
      ],
      "source": [
        "converted_data = {}\n",
        "for d in data:\n",
        "    converted_data.update({d['id']: d['comment']})\n",
        "\n",
        "converted_data"
      ]
    },
    {
      "cell_type": "code",
      "execution_count": null,
      "metadata": {},
      "outputs": [
        {
          "data": {
            "text/plain": [
              "' id  company_id                date  stars                                                                                                                                                                           comment   name            email     phone\\n  1           1 2021-01-31 08:29:34      5                                                                                   El servicio en este hotel es excepcional, el personal siempre está atento y dispuesto a ayudar. Daniel daniel@gmail.com 342424234\\n  2           1 2021-01-31 08:29:34      5                                                                                                           Las instalaciones son impecables, todo está muy limpio y bien mantenido Daniel daniel@gmail.com 342424234\\n  3           1 2021-01-31 08:29:34      4                                                                    La comida en el restaurante del hotel es deliciosa, con una amplia variedad de opciones para todos los gustos. Daniel daniel@gmail.com 342424234\\n  4           1 2021-01-31 08:29:34      4                                                               La ubicación es perfecta, cerca de las principales atracciones turísticas y con fácil acceso al transporte público. Daniel daniel@gmail.com 342424234\\n  5           1 2021-01-31 08:29:34      4                                                                                   Las habitaciones son cómodas y espaciosas, ideales para relajarse después de un día de turismo. Daniel daniel@gmail.com 342424234\\n  6           1 2021-01-31 08:29:34      5                                                                 El Wi-Fi funciona perfectamente en todo el hotel, lo cual es genial para aquellos que necesitan estar conectados. Daniel daniel@gmail.com 342424234\\n  7           1 2021-01-31 08:29:34      4                                                                                                El desayuno buffet es abundante y variado, con opciones frescas y de alta calidad. Daniel daniel@gmail.com 342424234\\n  8           1 2021-01-31 08:29:34      5                                                                                El ambiente del hotel es muy acogedor y tranquilo, ideal para disfrutar de una estancia relajante. Daniel daniel@gmail.com 342424234\\n  9           1 2021-01-31 08:29:34      5                                                                                           El spa y las áreas de bienestar son excelentes, perfectas para consentirse y relajarse. Daniel daniel@gmail.com 342424234\\n 10           1 2021-01-31 08:29:34      4                   El hotel ofrece una gran cantidad de servicios adicionales, como servicio de lavandería y alquiler de bicicletas, que hacen que la estancia sea aún más cómoda. Daniel daniel@gmail.com 342424234\\n 11           1 2021-01-31 08:29:34      5                                                                                   La relación calidad-precio es excelente, realmente sientes que obtienes mucho por lo que pagas. Daniel daniel@gmail.com 342424234\\n 12           1 2021-01-31 08:29:34      5                                                                                         La piscina del hotel es impresionante, con vistas increíbles y un ambiente muy agradable. Daniel daniel@gmail.com 342424234\\n 13           1 2021-01-31 08:29:34      3                                                             El hotel cuenta con medidas de seguridad muy estrictas, lo que te hace sentir seguro y protegido durante tu estancia. Daniel daniel@gmail.com 342424234\\n 14           1 2021-01-31 08:29:34      3 La atención a los detalles es notable, desde pequeños obsequios de bienvenida hasta una carta de almohadas en las habitaciones, demuestran un cuidado especial por los huéspedes. Daniel daniel@gmail.com 342424234\\n 15           1 2021-01-31 08:29:34      2                                                                                         El olor a humedad en las áreas comunes del hotel era bastante desagradable y persistente. Daniel daniel@gmail.com 342424234\\n 16           1 2021-01-31 08:29:34      3                                                                  La presión del agua en la ducha era muy baja, lo que hacía que bañarse fuera una experiencia poco satisfactoria. Daniel daniel@gmail.com 342424234\\n 17           1 2021-01-31 08:29:34      3                                                                                      El mobiliario en las habitaciones estaba deteriorado y necesitaba ser renovado con urgencia. Daniel daniel@gmail.com 342424234\\n 18           1 2021-01-31 08:29:34      3                                                     El sistema de calefacción en la habitación no funcionaba correctamente, haciendo que la temperatura fuera difícil de regular. Daniel daniel@gmail.com 342424234\\n 19           1 2021-01-31 08:29:34      4                                        La piscina del hotel estaba sucia y mal mantenida, lo que disminuía la experiencia de los huéspedes que deseaban disfrutar de un chapuzón. Daniel daniel@gmail.com 342424234\\n 20           1 2021-01-31 08:29:34      3                                                                           El servicio de limpieza pasaba muy temprano por la mañana, interrumpiendo el descanso de los huéspedes. Daniel daniel@gmail.com 342424234\\n 21           1 2021-01-31 08:29:34      2                                                           El minibar en la habitación estaba vacío o mal surtido, lo que era decepcionante considerando el precio del alojamiento Daniel daniel@gmail.com 342424234\\n 22           1 2021-01-31 08:29:34      2                                                                               El hotel prometía vistas panorámicas, pero mi habitación tenía una vista obstruida o poco atractiva Daniel daniel@gmail.com 342424234\\n 23           1 2021-01-31 08:29:34      2                                                                La insonorización de las habitaciones era deficiente, podía escuchar claramente las conversaciones de los vecinos. Daniel daniel@gmail.com 342424234\\n 24           1 2021-01-31 08:29:34      1                                                                La conexión a internet era de pago y bastante cara, lo cual era inaceptable considerando el precio de la estancia. Daniel daniel@gmail.com 342424234\\n 25           1 2021-01-31 08:29:34      2                                      El servicio de transporte ofrecido por el hotel era irregular y poco confiable, causando inconvenientes a los huéspedes que dependían de él. Daniel daniel@gmail.com 342424234\\n 26           1 2021-01-31 08:29:34      2                                                                               El colchón en mi habitación estaba viejo y desgastado, lo que provocaba molestias durante la noche. Daniel daniel@gmail.com 342424234\\n 27           1 2021-01-31 08:29:34      3                                                                              El desayuno incluido en la tarifa era de baja calidad y poco variado, con opciones poco apetecibles. Daniel daniel@gmail.com 342424234\\n 28           1 2021-01-31 08:29:34      2                                                            El hotel anunciaba un gimnasio bien equipado, pero al llegar descubrí que solo tenía un par de máquinas en mal estado. Daniel daniel@gmail.com 342424234\\n 29           1 2021-01-31 08:29:34      3                                                                              La decoración en las habitaciones era anticuada y poco acogedora, necesitaba una renovación urgente. Daniel daniel@gmail.com 342424234\\n 30           1 2021-01-31 08:29:34      2                                                                     El personal de restaurante era desorganizado y poco atento, lo que generaba largas esperas para ser atendido. Daniel daniel@gmail.com 342424234'"
            ]
          },
          "execution_count": 112,
          "metadata": {},
          "output_type": "execute_result"
        }
      ],
      "source": [
        "context = comments.to_string(index=False)\n",
        "context"
      ]
    },
    {
      "cell_type": "code",
      "execution_count": null,
      "metadata": {},
      "outputs": [
        {
          "name": "stdout",
          "output_type": "stream",
          "text": [
            "\n",
            "\n",
            "\u001b[1m> Entering new AgentExecutor chain...\u001b[0m\n",
            "\u001b[32;1m\u001b[1;3mI don't know\u001b[0m\n",
            "Observation: Invalid Format: Missing 'Action:' after 'Thought:\n",
            "Thought:\u001b[32;1m\u001b[1;3mI don't know\u001b[0m\n",
            "Observation: Invalid Format: Missing 'Action:' after 'Thought:\n",
            "Thought:\u001b[32;1m\u001b[1;3mI don't know\u001b[0m\n",
            "Observation: Invalid Format: Missing 'Action:' after 'Thought:\n",
            "Thought:\u001b[32;1m\u001b[1;3mI don't know\u001b[0m\n",
            "Observation: Invalid Format: Missing 'Action:' after 'Thought:\n",
            "Thought:\u001b[32;1m\u001b[1;3mI don't know\u001b[0m\n",
            "Observation: Invalid Format: Missing 'Action:' after 'Thought:\n",
            "Thought:\u001b[32;1m\u001b[1;3mI don't know\u001b[0m\n",
            "Observation: Invalid Format: Missing 'Action:' after 'Thought:\n",
            "Thought:\u001b[32;1m\u001b[1;3mI don't know\u001b[0m\n",
            "Observation: Invalid Format: Missing 'Action:' after 'Thought:\n",
            "Thought:\u001b[32;1m\u001b[1;3mI don't know\u001b[0m\n",
            "Observation: Invalid Format: Missing 'Action:' after 'Thought:\n",
            "Thought:\u001b[32;1m\u001b[1;3mI don't know\u001b[0m\n",
            "Observation: Invalid Format: Missing 'Action:' after 'Thought:\n",
            "Thought:\u001b[32;1m\u001b[1;3mI don't know\u001b[0m\n",
            "Observation: Invalid Format: Missing 'Action:' after 'Thought:\n",
            "Thought:\u001b[32;1m\u001b[1;3mI don't know\u001b[0m\n",
            "Observation: Invalid Format: Missing 'Action:' after 'Thought:\n",
            "Thought:\u001b[32;1m\u001b[1;3mI don't know\u001b[0m\n",
            "Observation: Invalid Format: Missing 'Action:' after 'Thought:\n",
            "Thought:\u001b[32;1m\u001b[1;3mI don't know\u001b[0m\n",
            "Observation: Invalid Format: Missing 'Action:' after 'Thought:\n",
            "Thought:\u001b[32;1m\u001b[1;3mI don't know\u001b[0m\n",
            "Observation: Invalid Format: Missing 'Action:' after 'Thought:\n",
            "Thought:\u001b[32;1m\u001b[1;3mI don't know\u001b[0m\n",
            "Observation: Invalid Format: Missing 'Action:' after 'Thought:\n",
            "Thought:\u001b[32;1m\u001b[1;3m\u001b[0m\n",
            "\n",
            "\u001b[1m> Finished chain.\u001b[0m\n"
          ]
        }
      ],
      "source": [
        "from langchain.chains import LLMChain\n",
        "from langchain.prompts import PromptTemplate\n",
        "from langchain.agents import AgentExecutor, create_openai_tools_agent\n",
        "\n",
        "data_description = comments.to_string(index=False)\n",
        "\n",
        "\n",
        "query = 'Cuando fue la segunda guerra mundial?'\n",
        "\n",
        "from langchain_experimental.utilities import PythonREPL\n",
        "from langchain_experimental.agents.agent_toolkits import create_python_agent\n",
        "from langchain_experimental.tools.python.tool import PythonREPLTool\n",
        "from langchain_openai import ChatOpenAI\n",
        "\n",
        "llm = ChatOpenAI(model='gpt-4-turbo-preview', temperature=0)\n",
        "\n",
        "agent_executor = create_python_agent(\n",
        "    llm=llm,\n",
        "    tool=PythonREPLTool(),\n",
        "    verbose=True,\n",
        "    agent_executor_kwargs={\"handle_parsing_errors\": True}\n",
        ")\n",
        "\n",
        "prompt = f\"\"\"\n",
        "\n",
        "Eres un experto analista de retroalimentación de clientes, especializado en identificar patrones y tendencias en la retroalimentación.\n",
        "\n",
        "El objetivo de un experto analista de retroalimentación de clientes es encontrar oportunidades de mejora que vayan más allá de simplemente identificar puntos clave de buen servicio al cliente, sino también identificar oportunidades de mejora en la experiencia general del cliente dentro del negocio donde trabajan. Ya que los comentarios de los clientes revelan mucho más que solo un buen servicio al cliente.\n",
        "\n",
        "Si no sabes la respuesta a una pregunta, simplete response, no sé.\n",
        "\n",
        "Responde la siguiente pregunta: {query}, analizando los siguientes datos {data_description} \n",
        "\n",
        "\"\"\"\n",
        "response = agent_executor.invoke(prompt)"
      ]
    },
    {
      "cell_type": "code",
      "execution_count": null,
      "metadata": {},
      "outputs": [
        {
          "name": "stdout",
          "output_type": "stream",
          "text": [
            "Agent stopped due to iteration limit or time limit.\n"
          ]
        }
      ],
      "source": [
        "print(response['output'])"
      ]
    },
    {
      "cell_type": "code",
      "execution_count": null,
      "metadata": {},
      "outputs": [],
      "source": []
    }
  ],
  "metadata": {
    "colab": {
      "provenance": []
    },
    "kernelspec": {
      "display_name": "Python 3",
      "language": "python",
      "name": "python3"
    },
    "language_info": {
      "codemirror_mode": {
        "name": "ipython",
        "version": 3
      },
      "file_extension": ".py",
      "mimetype": "text/x-python",
      "name": "python",
      "nbconvert_exporter": "python",
      "pygments_lexer": "ipython3",
      "version": "3.10.0"
    }
  },
  "nbformat": 4,
  "nbformat_minor": 0
}
