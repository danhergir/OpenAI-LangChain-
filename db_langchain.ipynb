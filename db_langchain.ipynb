{
  "cells": [
    {
      "cell_type": "code",
      "execution_count": 2,
      "metadata": {
        "id": "VR8N0SBYQKVK"
      },
      "outputs": [
        {
          "name": "stdout",
          "output_type": "stream",
          "text": [
            "\u001b[33mWARNING: You are using pip version 21.2.3; however, version 24.0 is available.\n",
            "You should consider upgrading via the '/Users/danielhernandez/.pyenv/versions/3.10.0/bin/python3.10 -m pip install --upgrade pip' command.\u001b[0m\n"
          ]
        }
      ],
      "source": [
        "!pip install mysql-connector-python langchain langchain_openai openai langchain_experimental sqlalchemy pinecone-client -q"
      ]
    },
    {
      "cell_type": "markdown",
      "metadata": {},
      "source": [
        "### Best AI Agent (Until Now)"
      ]
    },
    {
      "cell_type": "code",
      "execution_count": 21,
      "metadata": {},
      "outputs": [],
      "source": [
        "from langchain_experimental.agents.agent_toolkits import create_python_agent\n",
        "from langchain_experimental.tools.python.tool import PythonREPLTool\n",
        "from langchain_openai import ChatOpenAI\n",
        "\n",
        "def analyze_business_feedback(query):\n",
        "\n",
        "    llm = ChatOpenAI(model='gpt-4-turbo-preview', temperature=0)\n",
        "\n",
        "    agent_executor = create_python_agent(\n",
        "        llm=llm,\n",
        "        tool=PythonREPLTool(),\n",
        "        verbose=True,\n",
        "        agent_executor_kwargs={\"handle_parsing_errors\": True, \"timeout\": 60}\n",
        "    )\n",
        "\n",
        "    data_description = comments.to_string(index=False)\n",
        "\n",
        "    prompt = f\"\"\"\n",
        "\n",
        "    Eres un experto analista de retroalimentación de clientes, especializado en identificar patrones y tendencias en la retroalimentación.\n",
        "\n",
        "    El objetivo de un experto analista de retroalimentación de clientes es encontrar oportunidades de mejora que vayan más allá de simplemente identificar puntos clave de buen servicio al cliente, sino también identificar oportunidades de mejora en la experiencia general del cliente dentro del negocio donde trabajan. Ya que los comentarios de los clientes revelan mucho más que solo un buen servicio al cliente.\n",
        "\n",
        "    Si no sabes la respuesta a una pregunta, simplete response, no sé.\n",
        "\n",
        "    Dame una respuesta corta y concreta.\n",
        "\n",
        "    En caso de \"Observation: Invalid Format: Missing 'Action:' after 'Thought: Thought:I don't know\", responde:\n",
        "\n",
        "    Soy un experto analista de retroalimentación de clientes. Intenta con una pregunta diferente, por favor.\n",
        "\n",
        "    Deberías usar las herramientas que están abajo para responder la pregunta que te hicieron:\n",
        "\n",
        "    Intenta responder la siguiente pregunta: {query}, analizando los siguientes datos buscando keywords de la pregunta {data_description} o dando una respuesta que pueda ser relevante.\n",
        "\n",
        "    \"\"\"\n",
        "\n",
        "    response = agent_executor.invoke(prompt)\n",
        "    return response['output']\n",
        "\n",
        "\n",
        "# analyze_business_feedback('Que debería mejorar de mi servicio?')\n"
      ]
    },
    {
      "cell_type": "code",
      "execution_count": 22,
      "metadata": {},
      "outputs": [
        {
          "name": "stdout",
          "output_type": "stream",
          "text": [
            "Running on local URL:  http://127.0.0.1:7862\n",
            "IMPORTANT: You are using gradio version 4.28.3, however version 4.29.0 is available, please upgrade.\n",
            "--------\n",
            "Running on public URL: https://1f01f184efe6cd3e38.gradio.live\n",
            "\n",
            "This share link expires in 72 hours. For free permanent hosting and GPU upgrades, run `gradio deploy` from Terminal to deploy to Spaces (https://huggingface.co/spaces)\n"
          ]
        },
        {
          "data": {
            "text/html": [
              "<div><iframe src=\"https://1f01f184efe6cd3e38.gradio.live\" width=\"100%\" height=\"500\" allow=\"autoplay; camera; microphone; clipboard-read; clipboard-write;\" frameborder=\"0\" allowfullscreen></iframe></div>"
            ],
            "text/plain": [
              "<IPython.core.display.HTML object>"
            ]
          },
          "metadata": {},
          "output_type": "display_data"
        },
        {
          "data": {
            "text/plain": []
          },
          "execution_count": 22,
          "metadata": {},
          "output_type": "execute_result"
        },
        {
          "name": "stdout",
          "output_type": "stream",
          "text": [
            "\n",
            "\n",
            "\u001b[1m> Entering new AgentExecutor chain...\u001b[0m\n",
            "\u001b[32;1m\u001b[1;3mPara responder a la pregunta \"¿Qué puedo mejorar de mi negocio?\", necesito analizar los comentarios de los clientes, identificando patrones y tendencias, especialmente en aquellos comentarios con calificaciones bajas, ya que estos suelen contener áreas específicas de mejora.\n",
            "\n",
            "Action: Python_REPL\n",
            "Action Input:\n",
            "```python\n",
            "# No hay necesidad de ejecutar código para esta tarea, ya que la respuesta se basa en el análisis de texto y no en cálculos o procesamiento de datos específicos.\n",
            "```\u001b[0m\n",
            "Observation: \u001b[36;1m\u001b[1;3m\u001b[0m\n",
            "Thought:\u001b[32;1m\u001b[1;3mI don't know\u001b[0m\n",
            "Observation: Invalid Format: Missing 'Action:' after 'Thought:\n",
            "Thought:\u001b[32;1m\u001b[1;3mI don't know\u001b[0m\n",
            "Observation: Invalid Format: Missing 'Action:' after 'Thought:\n",
            "Thought:\u001b[32;1m\u001b[1;3mSoy un experto analista de retroalimentación de clientes. Intenta con una pregunta diferente, por favor.\u001b[0m\n",
            "Observation: Invalid Format: Missing 'Action:' after 'Thought:\n",
            "Thought:\u001b[32;1m\u001b[1;3mSoy un experto analista de retroalimentación de clientes. Intenta con una pregunta diferente, por favor.\u001b[0m\n",
            "Observation: Invalid Format: Missing 'Action:' after 'Thought:\n",
            "Thought:\u001b[32;1m\u001b[1;3mSoy un experto analista de retroalimentación de clientes. Intenta con una pregunta diferente, por favor.\u001b[0m\n",
            "Observation: Invalid Format: Missing 'Action:' after 'Thought:\n",
            "Thought:\u001b[32;1m\u001b[1;3mSoy un experto analista de retroalimentación de clientes. Intenta con una pregunta diferente, por favor.\u001b[0m\n",
            "Observation: Invalid Format: Missing 'Action:' after 'Thought:\n",
            "Thought:\u001b[32;1m\u001b[1;3mSoy un experto analista de retroalimentación de clientes. Intenta con una pregunta diferente, por favor.\u001b[0m\n",
            "Observation: Invalid Format: Missing 'Action:' after 'Thought:\n",
            "Thought:\u001b[32;1m\u001b[1;3mSoy un experto analista de retroalimentación de clientes. Intenta con una pregunta diferente, por favor.\u001b[0m\n",
            "Observation: Invalid Format: Missing 'Action:' after 'Thought:\n",
            "Thought:\u001b[32;1m\u001b[1;3mSoy un experto analista de retroalimentación de clientes. Intenta con una pregunta diferente, por favor.\u001b[0m\n",
            "Observation: Invalid Format: Missing 'Action:' after 'Thought:\n",
            "Thought:\u001b[32;1m\u001b[1;3mSoy un experto analista de retroalimentación de clientes. Intenta con una pregunta diferente, por favor.\u001b[0m\n",
            "Observation: Invalid Format: Missing 'Action:' after 'Thought:\n",
            "Thought:\u001b[32;1m\u001b[1;3mSoy un experto analista de retroalimentación de clientes. Intenta con una pregunta diferente, por favor.\u001b[0m\n",
            "Observation: Invalid Format: Missing 'Action:' after 'Thought:\n",
            "Thought:\u001b[32;1m\u001b[1;3mSoy un experto analista de retroalimentación de clientes. Intenta con una pregunta diferente, por favor.\u001b[0m\n",
            "Observation: Invalid Format: Missing 'Action:' after 'Thought:\n",
            "Thought:\u001b[32;1m\u001b[1;3mSoy un experto analista de retroalimentación de clientes. Intenta con una pregunta diferente, por favor.\u001b[0m\n",
            "Observation: Invalid Format: Missing 'Action:' after 'Thought:\n",
            "Thought:\u001b[32;1m\u001b[1;3mSoy un experto analista de retroalimentación de clientes. Intenta con una pregunta diferente, por favor.\u001b[0m\n",
            "Observation: Invalid Format: Missing 'Action:' after 'Thought:\n",
            "Thought:\u001b[32;1m\u001b[1;3m\u001b[0m\n",
            "\n",
            "\u001b[1m> Finished chain.\u001b[0m\n",
            "\n",
            "\n",
            "\u001b[1m> Entering new AgentExecutor chain...\u001b[0m\n",
            "\u001b[32;1m\u001b[1;3mPara responder a la pregunta \"¿Qué puedo mejorar de mi negocio?\", necesito analizar los comentarios de los clientes, identificando patrones y tendencias en las críticas negativas y las áreas con calificaciones más bajas. Esto me permitirá destacar las oportunidades de mejora.\n",
            "\n",
            "Action: Python_REPL\n",
            "Action Input:\n",
            "```python\n",
            "# Datos de comentarios y calificaciones\n",
            "comentarios = [\n",
            "    (5, \"El servicio en este hotel es excepcional, el personal siempre está atento y dispuesto a ayudar.\"),\n",
            "    (5, \"Las instalaciones son impecables, todo está muy limpio y bien mantenido\"),\n",
            "    (4, \"La comida en el restaurante del hotel es deliciosa, con una amplia variedad de opciones para todos los gustos.\"),\n",
            "    (4, \"La ubicación es perfecta, cerca de las principales atracciones turísticas y con fácil acceso al transporte público.\"),\n",
            "    (4, \"Las habitaciones son cómodas y espaciosas, ideales para relajarse después de un día de turismo.\"),\n",
            "    (5, \"El Wi-Fi funciona perfectamente en todo el hotel, lo cual es genial para aquellos que necesitan estar conectados.\"),\n",
            "    (4, \"El desayuno buffet es abundante y variado, con opciones frescas y de alta calidad.\"),\n",
            "    (5, \"El ambiente del hotel es muy acogedor y tranquilo, ideal para disfrutar de una estancia relajante.\"),\n",
            "    (5, \"El spa y las áreas de bienestar son excelentes, perfectas para consentirse y relajarse.\"),\n",
            "    (4, \"El hotel ofrece una gran cantidad de servicios adicionales, como servicio de lavandería y alquiler de bicicletas, que hacen que la estancia sea aún más cómoda.\"),\n",
            "    (5, \"La relación calidad-precio es excelente, realmente sientes que obtienes mucho por lo que pagas.\"),\n",
            "    (5, \"La piscina del hotel es impresionante, con vistas increíbles y un ambiente muy agradable.\"),\n",
            "    (3, \"El hotel cuenta con medidas de seguridad muy estrictas, lo que te hace sentir seguro y protegido durante tu estancia.\"),\n",
            "    (3, \"La atención a los detalles es notable, desde pequeños obsequios de bienvenida hasta una carta de almohadas en las habitaciones, demuestran un cuidado especial por los huéspedes.\"),\n",
            "    (2, \"El olor a humedad en las áreas comunes del hotel era bastante desagradable y persistente.\"),\n",
            "    (3, \"La presión del agua en la ducha era muy baja, lo que hacía que bañarse fuera una experiencia poco satisfactoria.\"),\n",
            "    (3, \"El mobiliario en las habitaciones estaba deteriorado y necesitaba ser renovado con urgencia.\"),\n",
            "    (3, \"El sistema de calefacción en la habitación no funcionaba correctamente, haciendo que la temperatura fuera difícil de regular.\"),\n",
            "    (4, \"La piscina del hotel estaba sucia y mal mantenida, lo que disminuía la experiencia de los huéspedes que deseaban disfrutar de un chapuzón.\"),\n",
            "    (3, \"El servicio de limpieza pasaba muy temprano por la mañana, interrumpiendo el descanso de los huéspedes.\"),\n",
            "    (2, \"El minibar en la habitación estaba vacío o mal surtido, lo que era decepcionante considerando el precio del alojamiento\"),\n",
            "    (2, \"El hotel prometía vistas panorámicas, pero mi habitación tenía una vista obstruida o poco atractiva\"),\n",
            "    (2, \"La insonorización de las habitaciones era deficiente, podía escuchar claramente las conversaciones de los vecinos.\"),\n",
            "    (1, \"La conexión a internet era de pago y bastante cara, lo cual era inaceptable considerando el precio de la estancia.\"),\n",
            "    (2, \"El servicio de transporte ofrecido por el hotel era irregular y poco confiable, causando inconvenientes a los huéspedes que dependían de él.\"),\n",
            "    (2, \"El colchón en mi habitación estaba viejo y desgastado, lo que provocaba molestias durante la noche.\"),\n",
            "    (3, \"El desayuno incluido en la tarifa era de baja calidad y poco variado, con opciones poco apetecibles.\"),\n",
            "    (2, \"El hotel anunciaba un gimnasio bien equipado, pero al llegar descubrí que solo tenía un par de máquinas en mal estado.\"),\n",
            "    (3, \"La decoración en las habitaciones era anticuada y poco acogedora, necesitaba una renovación urgente.\"),\n",
            "    (2, \"El personal de restaurante era desorganizado y poco atento, lo que generaba largas esperas para ser atendido.\")\n",
            "]\n",
            "\n",
            "# Identificar áreas de mejora basadas en comentarios con calificaciones bajas (3 o menos)\n",
            "areas_mejora = [comentario for calificacion, comentario in comentarios if calificacion <= 3]\n",
            "print(areas_mejora)\n",
            "```\u001b[0m\n",
            "Observation: \u001b[36;1m\u001b[1;3m['El hotel cuenta con medidas de seguridad muy estrictas, lo que te hace sentir seguro y protegido durante tu estancia.', 'La atención a los detalles es notable, desde pequeños obsequios de bienvenida hasta una carta de almohadas en las habitaciones, demuestran un cuidado especial por los huéspedes.', 'El olor a humedad en las áreas comunes del hotel era bastante desagradable y persistente.', 'La presión del agua en la ducha era muy baja, lo que hacía que bañarse fuera una experiencia poco satisfactoria.', 'El mobiliario en las habitaciones estaba deteriorado y necesitaba ser renovado con urgencia.', 'El sistema de calefacción en la habitación no funcionaba correctamente, haciendo que la temperatura fuera difícil de regular.', 'El servicio de limpieza pasaba muy temprano por la mañana, interrumpiendo el descanso de los huéspedes.', 'El minibar en la habitación estaba vacío o mal surtido, lo que era decepcionante considerando el precio del alojamiento', 'El hotel prometía vistas panorámicas, pero mi habitación tenía una vista obstruida o poco atractiva', 'La insonorización de las habitaciones era deficiente, podía escuchar claramente las conversaciones de los vecinos.', 'La conexión a internet era de pago y bastante cara, lo cual era inaceptable considerando el precio de la estancia.', 'El servicio de transporte ofrecido por el hotel era irregular y poco confiable, causando inconvenientes a los huéspedes que dependían de él.', 'El colchón en mi habitación estaba viejo y desgastado, lo que provocaba molestias durante la noche.', 'El desayuno incluido en la tarifa era de baja calidad y poco variado, con opciones poco apetecibles.', 'El hotel anunciaba un gimnasio bien equipado, pero al llegar descubrí que solo tenía un par de máquinas en mal estado.', 'La decoración en las habitaciones era anticuada y poco acogedora, necesitaba una renovación urgente.', 'El personal de restaurante era desorganizado y poco atento, lo que generaba largas esperas para ser atendido.']\n",
            "\u001b[0m\n",
            "Thought:\u001b[32;1m\u001b[1;3mI now know the final answer\n",
            "\n",
            "Final Answer: Las áreas de mejora identificadas incluyen: mejorar el olor a humedad en áreas comunes, aumentar la presión del agua en las duchas, renovar el mobiliario y el sistema de calefacción en las habitaciones, ajustar el horario del servicio de limpieza, surtir adecuadamente el minibar, mejorar las vistas desde las habitaciones, mejorar la insonorización, eliminar el costo adicional de la conexión a internet, hacer más confiable el servicio de transporte, reemplazar colchones viejos, mejorar la calidad y variedad del desayuno incluido, mejorar el equipamiento y mantenimiento del gimnasio, actualizar la decoración de las habitaciones, y mejorar la organización y atención del personal de restaurante.\u001b[0m\n",
            "\n",
            "\u001b[1m> Finished chain.\u001b[0m\n",
            "\n",
            "\n",
            "\u001b[1m> Entering new AgentExecutor chain...\u001b[0m\n",
            "\u001b[32;1m\u001b[1;3mPara responder a esta pregunta, analizaré los comentarios negativos (aquellos con calificaciones de 3 estrellas o menos) para identificar áreas de mejora. Los comentarios negativos suelen ofrecer una visión directa de los aspectos que los clientes consideran que necesitan mejoras. No necesito ejecutar código Python para esta tarea, ya que se trata de un análisis cualitativo basado en los datos proporcionados.\n",
            "\n",
            "Final Answer: Las áreas de mejora identificadas incluyen: mejorar la calidad y variedad del desayuno, renovar el mobiliario y la decoración de las habitaciones para que sean más modernas y acogedoras, asegurar que el minibar esté bien surtido, mejorar la insonorización de las habitaciones, ofrecer Wi-Fi gratuito y de buena calidad, mantener mejor la piscina, asegurar un servicio de limpieza que no interrumpa el descanso de los huéspedes, mejorar la presión del agua en las duchas, solucionar problemas con el sistema de calefacción, y mejorar la organización y atención en el restaurante.\u001b[0m\n",
            "\n",
            "\u001b[1m> Finished chain.\u001b[0m\n"
          ]
        }
      ],
      "source": [
        "import gradio as gr\n",
        "\n",
        "demo = gr.Interface(fn=analyze_business_feedback, inputs=\"text\", outputs=\"text\")\n",
        "\n",
        "demo.launch(share=True)"
      ]
    },
    {
      "cell_type": "markdown",
      "metadata": {},
      "source": [
        "### Running Agent from HuggingFace"
      ]
    },
    {
      "cell_type": "code",
      "execution_count": 20,
      "metadata": {},
      "outputs": [
        {
          "ename": "TypeError",
          "evalue": "EventListener._setup.<locals>.event_trigger() missing 1 required positional argument: 'block'",
          "output_type": "error",
          "traceback": [
            "\u001b[0;31m---------------------------------------------------------------------------\u001b[0m",
            "\u001b[0;31mTypeError\u001b[0m                                 Traceback (most recent call last)",
            "Cell \u001b[0;32mIn[20], line 6\u001b[0m\n\u001b[1;32m      3\u001b[0m title \u001b[38;5;241m=\u001b[39m \u001b[38;5;124m'\u001b[39m\u001b[38;5;124mAI Agent Hugging Face Demo\u001b[39m\u001b[38;5;124m'\u001b[39m\n\u001b[1;32m      4\u001b[0m description \u001b[38;5;241m=\u001b[39m \u001b[38;5;124m'\u001b[39m\u001b[38;5;124mAI Agent for Feedbacker Reviews\u001b[39m\u001b[38;5;124m'\u001b[39m\n\u001b[0;32m----> 6\u001b[0m \u001b[43mgr\u001b[49m\u001b[38;5;241;43m.\u001b[39;49m\u001b[43mInterface\u001b[49m\u001b[38;5;241;43m.\u001b[39;49m\u001b[43mload\u001b[49m\u001b[43m(\u001b[49m\n\u001b[1;32m      7\u001b[0m \u001b[43m    \u001b[49m\u001b[43mfn\u001b[49m\u001b[38;5;241;43m=\u001b[39;49m\u001b[43manalyze_business_feedback\u001b[49m\u001b[43m,\u001b[49m\u001b[43m \u001b[49m\u001b[43minputs\u001b[49m\u001b[38;5;241;43m=\u001b[39;49m\u001b[38;5;124;43m\"\u001b[39;49m\u001b[38;5;124;43mtext\u001b[39;49m\u001b[38;5;124;43m\"\u001b[39;49m\u001b[43m,\u001b[49m\u001b[43m \u001b[49m\u001b[43moutputs\u001b[49m\u001b[38;5;241;43m=\u001b[39;49m\u001b[38;5;124;43m\"\u001b[39;49m\u001b[38;5;124;43mtext\u001b[39;49m\u001b[38;5;124;43m\"\u001b[39;49m\n\u001b[1;32m      8\u001b[0m \u001b[43m)\u001b[49m\u001b[38;5;241m.\u001b[39mlaunch()\n",
            "\u001b[0;31mTypeError\u001b[0m: EventListener._setup.<locals>.event_trigger() missing 1 required positional argument: 'block'"
          ]
        }
      ],
      "source": [
        "import gradio as gr\n",
        "\n",
        "title = 'AI Agent Hugging Face Demo'\n",
        "description = 'AI Agent for Feedbacker Reviews'\n",
        "\n",
        "gr.Interface.load(\n",
        "    fn=analyze_business_feedback, inputs=\"text\", outputs=\"text\"\n",
        ").launch()"
      ]
    },
    {
      "cell_type": "code",
      "execution_count": null,
      "metadata": {},
      "outputs": [],
      "source": []
    }
  ],
  "metadata": {
    "colab": {
      "provenance": []
    },
    "kernelspec": {
      "display_name": "Python 3",
      "language": "python",
      "name": "python3"
    },
    "language_info": {
      "codemirror_mode": {
        "name": "ipython",
        "version": 3
      },
      "file_extension": ".py",
      "mimetype": "text/x-python",
      "name": "python",
      "nbconvert_exporter": "python",
      "pygments_lexer": "ipython3",
      "version": "3.10.0"
    }
  },
  "nbformat": 4,
  "nbformat_minor": 0
}
